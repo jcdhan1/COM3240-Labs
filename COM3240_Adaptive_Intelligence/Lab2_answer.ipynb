{
 "cells": [
  {
   "cell_type": "markdown",
   "metadata": {},
   "source": [
    "# Adaptive Intelligence COM3240\n",
    "## Lab 2: The BCM rule"
   ]
  },
  {
   "cell_type": "markdown",
   "metadata": {},
   "source": [
    "### Learning Outcomes\n",
    "\n",
    "- Understand the BCM rule and its functionality.\n",
    "- Understand the difference between Hebbian rule and BCM rule."
   ]
  },
  {
   "cell_type": "markdown",
   "metadata": {},
   "source": [
    "## Lecture overview\n",
    "\n",
    "Experimental evidence: both pre- and postsynaptic activity is needed in order for the synaptic weight to change.\n",
    " \n",
    "BCM rule equation:  \n",
    "$$ \\frac{dw_{i,j}}{dt} = a_2^{corr} \\Phi \\left( v_i^{post}; \\theta \\right) v_j^{pre} $$\n",
    "where $ \\frac{dw_{i,j}}{dt}$ is the rate of change of weight **from** a presynaptic neuron $j$ and **to** a postsynaptic neuron $i$ , $a_2^{corr}$ is the learning rate (the amount of weight change over time in case of firing), $\\Phi$ is a nonlinear function dependent of a threshold $\\theta$ and the postsynaptic activity $v_i^{post}$, and $v_j^{pre}$ is the activity of the presynaptic neuron.\n",
    "\n"
   ]
  },
  {
   "cell_type": "markdown",
   "metadata": {},
   "source": [
    "The BCM rule leads to specialized Neurons (developmental learning).\n",
    "\n",
    "<img src='http://bitsandchips.me/COM3240_Adaptive_Intelligence/Lecture2/icons/fig1.png' width=\"500\">\n",
    "\n",
    "With **a sliding threshold** $\\theta$, the BCM rule implements competition between synapses."
   ]
  },
  {
   "cell_type": "markdown",
   "metadata": {},
   "source": [
    "The firing rates of neurons (whether pre- post-synaptic) are in Hz. $\\theta$ is the threshold of firing rates so it must also be in Hz."
   ]
  },
  {
   "cell_type": "markdown",
   "metadata": {},
   "source": [
    "Theta is a function of the averge post synaptic neuron vector over time.\n",
    "$$\\theta = f\\left(\\left<v^{post}_i\\right>\\right)$$"
   ]
  },
  {
   "cell_type": "markdown",
   "metadata": {},
   "source": [
    "## Laboratory 2: The BCM rule\n",
    "\n",
    "### Exercise: Implementation of the BCM rule\n",
    "\n",
    "Write a script that simulates the following scenarios and verify your result using logic argument. Note: choice of parameters may affect your results.\n",
    "Synaptic changes follow equation, according to the BCM rule:\n",
    "\n",
    "\\begin{align}\n",
    "\\frac{dw_{i,j}}{dt} &= a_2^{corr} \\Phi \\left( v_i^{post}; \\theta \\right) v_j^{pre} && [1] \\\\\n",
    "\\Phi\\left(v_i^{post}; \\theta\\right) &= v_i^{post}\\left(v_i^{post} - \\theta\\right) && [2]  \n",
    "\\end{align}\n",
    "\n",
    "The synaptic changes are plotted as a function of the postsynaptic firing rate:\n",
    "\n",
    "<img src=\"http://bitsandchips.me/COM3240_Adaptive_Intelligence/Lecture2/icons/fig2.png\" width=\"500\">\n",
    "\n",
    "Let us assume the simplest dependence of the postsynaptic firing rate from the input current:\n",
    "$$ v_i^{post} = \\sum_j w_{i, j}v_j^{pre} [3] $$\n",
    "\n",
    "and consider a postsynaptic neuron that receives input from 2 groups. Each group has 10 neurons and all weights are equal 1. If $\\theta = 20 Hz$ consider the following three scenarios:\n",
    "\n",
    "1. Group 1 fires at 3 Hz, then group 2 at 1 Hz. What happens?\n",
    "2. Group 1 fires at 3 Hz, then group 2 at 2.5 Hz. What happens?\n",
    "3. As in 2., but make theta a function of the averaged rate. What happens?\n",
    "\n",
    "To reply to these questions you will need to implement the BCM rule in the following script."
   ]
  },
  {
   "cell_type": "code",
   "execution_count": 6,
   "metadata": {
    "collapsed": true
   },
   "outputs": [],
   "source": [
    "# loading the libraries\n",
    "import numpy as np                # docs.scipy.org/doc/numpy-1.10.0/reference/\n",
    "import matplotlib.pyplot as plt   # matplotlib.org/api/pyplot_summary.html\n",
    "import matplotlib\n",
    "\n",
    "%matplotlib inline"
   ]
  },
  {
   "cell_type": "markdown",
   "metadata": {},
   "source": [
    "#### Parameters and initialization"
   ]
  },
  {
   "cell_type": "code",
   "execution_count": 7,
   "metadata": {
    "collapsed": true
   },
   "outputs": [],
   "source": [
    "moving_thres = True\n",
    "\n",
    "# neuron count\n",
    "G1 = 10     # group 1\n",
    "G2 = 10     # group 2\n",
    "N = G1 + G2 # total\n",
    "\n",
    "# firing rates\n",
    "fG1 = 3     #Hz i.e. sec^-1\n",
    "fG2 = 1\n",
    "theta = 20  # threshold\n",
    "\n",
    "# max/min weights\n",
    "maxW = 2\n",
    "minW = -2\n",
    "alpha = 1E-3\n",
    "\n",
    "# number of iterations over which the weight change will be computed\n",
    "iterations = 40\n",
    "\n",
    "# weights -> we store the weight for each iteration in a row of a matrix\n",
    "#            so that we can plot the weight evolution below\n",
    "W = np.zeros((iterations, N))\n",
    "initW = 1\n",
    "# initialise first row of weights\n",
    "W[0,:] = initW"
   ]
  },
  {
   "cell_type": "markdown",
   "metadata": {},
   "source": [
    "#### Input "
   ]
  },
  {
   "cell_type": "code",
   "execution_count": 8,
   "metadata": {
    "collapsed": true
   },
   "outputs": [],
   "source": [
    "np.set_printoptions(linewidth=96)\n",
    "\n",
    "# input activity\n",
    "X = np.zeros((iterations, N))\n",
    "# same as iterations/2 as python integer division returns floor\n",
    "# http://python-history.blogspot.it/2010/08/why-pythons-integer-division-floors.html\n",
    "midpoint = np.floor(iterations/2)\n",
    "# we need to make sure that \"midpoint\" is integer because we are going to use it as index.\n",
    "# if we skip this step then: VisibleDeprecationWarning: using a non-integer number instead of an integer will result in an error in the future\n",
    "midpoint = int(midpoint)\n",
    "\n",
    "# 1st half: first group active (second  silent)\n",
    "X[0:midpoint, 0:G1] = fG1       # remember indexing is start-point(included):end-point(not-included)\n",
    "X[0:midpoint, G1:N+1] = 0\n",
    "\n",
    "# 2nd half: second group active\n",
    "X[midpoint:iterations+1, 0:G1] = 0\n",
    "X[midpoint:iterations+1, G1:N+1] = fG2"
   ]
  },
  {
   "cell_type": "markdown",
   "metadata": {},
   "source": [
    "####  BMC rule implementation and execution"
   ]
  },
  {
   "cell_type": "code",
   "execution_count": 9,
   "metadata": {
    "collapsed": true
   },
   "outputs": [],
   "source": [
    "#Initialize vector for post-synaptic neuron (40 zeroes).\n",
    "y = np.zeros((1, iterations))\n",
    "\n",
    "for i in range(iterations - 1):\n",
    "\n",
    "    # Moving threshold boolean\n",
    "    if moving_thres:\n",
    "        # Theta is a function of the averge post synaptic neuron vector over time.\n",
    "        theta = np.mean(y[:,0:i+1])\n",
    "    \n",
    "    \"\"\" Implement the given neuron model\n",
    "    \n",
    "        The (i+1)th post-synaptic vector entry is equal to the dot product of the (i+1)th row of the weight matrix and the\n",
    "        transpose of the (i+1)th row of the pre-synaptic matrix.\"\"\"\n",
    "    y[0][i] = W[i,:].dot(X[i,:].T)\n",
    "\n",
    "    \"\"\" As specified in [1], the change in weight w - W[i,:] is equal to the product of the learning rate, the function of the\n",
    "        post-synatpic vector and the theta and the pre-synaptic vector\n",
    "        \n",
    "        As pecified in [2], the function is equal to the product of the post-synaptic vector and the difference between each\n",
    "        entry of the post-synaptic vector  and the threshold.\"\"\"\n",
    "    w = W[i,:] + (alpha * (y[0][i] * (y[0][i] - theta))) * X[i,:]\n",
    "    w = w * (w < maxW) + (w >= maxW) * maxW # synaptic bounds (max)\n",
    "    w = w * (w > minW) + (w <= minW) * minW # synaptic bounds (min)\n",
    "    \n",
    "    W[i+1,:] = w"
   ]
  },
  {
   "cell_type": "markdown",
   "metadata": {},
   "source": [
    "#### Plotting"
   ]
  },
  {
   "cell_type": "code",
   "execution_count": 10,
   "metadata": {},
   "outputs": [
    {
     "data": {
      "image/png": "[encoded data removed]",
      "text/plain": [
       "<matplotlib.figure.Figure at 0x2bb469d6748>"
      ]
     },
     "metadata": {},
     "output_type": "display_data"
    }
   ],
   "source": [
    "\n",
    "fs = 15\n",
    "lw = 4\n",
    "h = 'magma'\n",
    "\n",
    "fig, axes = plt.subplots(3,1, figsize=(6,8))\n",
    "\n",
    "# Fig 1 - theta\n",
    "axes[0].set_title('Theta threshold', fontsize=fs)\n",
    "y = np.arange(40)\n",
    "phi = alpha * (y * (y - theta))              # vector * vector is the element-wise multiplication\n",
    "axes[0].plot(y,phi,'-',color='black', linewidth=lw)\n",
    "axes[0].plot([theta, theta],[min(phi), max(phi)],'-',color='grey', linewidth=lw)\n",
    "axes[0].set_xlabel('Freq [a.u.]',fontsize=fs)\n",
    "axes[0].set_ylabel(r'$\\Phi$ [a.u.]',fontsize=fs)    # r makes the string raw (needed for latex rendering)\n",
    "axes[0].tick_params(axis='both',labelsize=fs)\n",
    "axes[0].set_ylim(min(phi),max(phi))\n",
    "\n",
    "# Fig 2 - input\n",
    "axes[1].set_title('Input over time', fontsize=fs)\n",
    "im1 = axes[1].imshow(X.T, interpolation='nearest', cmap=h)\n",
    "axes[1].set_aspect('auto')\n",
    "axes[1].set_xlabel('time [a.u.]',fontsize=fs)\n",
    "axes[1].set_ylabel('input [a.u.]',fontsize=fs)\n",
    "axes[1].tick_params(axis='both',labelsize=fs)\n",
    "axes[1].set_xlim(0,iterations-1)\n",
    "\n",
    "# Fig 3 - weight change\n",
    "axes[2].set_title('Weights over time', fontsize=fs)\n",
    "im2 = axes[2].imshow(W.T - initW, interpolation='nearest', cmap=h)\n",
    "axes[2].set_aspect('auto')\n",
    "axes[2].set_xlabel('time [a.u.]',fontsize=fs)\n",
    "axes[2].set_ylabel('dw [a.u.]',fontsize=fs)\n",
    "axes[2].tick_params(axis='both',labelsize=fs)\n",
    "axes[2].set_xlim(0,iterations-1)\n",
    "\n",
    "# Position the colorbars to the right of the images\n",
    "from mpl_toolkits.axes_grid1 import make_axes_locatable\n",
    "divider1 = make_axes_locatable(axes[1])\n",
    "divider2 = make_axes_locatable(axes[2])\n",
    "cbar_ax1 = divider1.append_axes(\"right\", \"5%\", pad=\"3%\")\n",
    "cbar_ax2 = divider2.append_axes(\"right\", \"5%\", pad=\"3%\")\n",
    "cm1 = fig.colorbar(im1, cax=cbar_ax1)\n",
    "cm2 = fig.colorbar(im2, cax=cbar_ax2)\n",
    "\n",
    "# Set the color range for the images and colorbars\n",
    "minX = X.min()\n",
    "maxX = X.max()\n",
    "im1.set_clim(vmin=minX, vmax=maxX)\n",
    "cm1.set_clim(vmin=minX, vmax=maxX)\n",
    "\n",
    "im2.set_clim(vmin=minW, vmax=maxW)\n",
    "cm2.set_clim(vmin=minW, vmax=maxW)\n",
    "\n",
    "# Compress everything to make it neat\n",
    "fig.tight_layout()\n",
    "plt.show()\n"
   ]
  },
  {
   "cell_type": "markdown",
   "metadata": {
    "collapsed": true
   },
   "source": [
    "1. Group 1 fires at 3 Hz"
   ]
  }
 ],
 "metadata": {
  "kernelspec": {
   "display_name": "Python 3",
   "language": "python",
   "name": "python3"
  },
  "language_info": {
   "codemirror_mode": {
    "name": "ipython",
    "version": 3
   },
   "file_extension": ".py",
   "mimetype": "text/x-python",
   "name": "python",
   "nbconvert_exporter": "python",
   "pygments_lexer": "ipython3",
   "version": "3.6.1"
  }
 },
 "nbformat": 4,
 "nbformat_minor": 2
}
