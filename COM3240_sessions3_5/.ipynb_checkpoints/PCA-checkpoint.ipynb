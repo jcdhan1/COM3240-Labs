{
 "cells": [
  {
   "cell_type": "markdown",
   "metadata": {},
   "source": [
    "# Adaptive Intelligence COM3240\n",
    "## Lab 3: Principal Components Analysis (PCA)\n",
    "\n",
    "### Learning Outcomes:\n",
    "\n",
    "- Understand the PCA technique.\n",
    "- Apply PCA on a toy dataset."
   ]
  },
  {
   "cell_type": "markdown",
   "metadata": {},
   "source": [
    "### Lecture Overview\n",
    "\n",
    "Principal Components Analysis (PCA) is a way of identifying patterns in data, and expressing the data in such a way as to highlight their similarities and differences.\n",
    "It allows to **reduce the dimensions of the data without much loss of information**.\n",
    "\n",
    "### PCA Cookbook:\n",
    "\n",
    "- Step 1: Get some data.\n",
    "- Step 2: Subtract the mean (center data around the mean).\n",
    "- Step 3: Calculate the covariance matrix.\n",
    "- Step 4: Calculate the eigenvectors and eigenvalues of the covariance matrix.\n",
    "- Step 5: Choose components and form a feature vector.\n",
    "- Step 6: Derive the new data set.\n",
    "\n",
    "**Please note**: carefully read the PCA Tutorial of Lindsay I Smith in order to understand the logic behind each step. On your first assignment you are expected to have a comprehensive description of the PCA. "
   ]
  },
  {
   "cell_type": "markdown",
   "metadata": {},
   "source": [
    "## Laboratory 3: Principal Components Analysis (PCA)\n",
    "\n",
    "### Exercise: Application of the PCA technique\n",
    "Apply the PCA technique on the dataset shown in Figure 1 in order to reduce its dimensionality.\n",
    "\n",
    "<img src=\"http://bitsandchips.me/COM3240_Adaptive_Intelligence/Lecture3/icons/figure1.png\"/>\n",
    "\n",
    "1. Centre the data around their mean.\n",
    "2. Write down the covariance formula and calculate the covariance matrix.\n",
    "3. Find the eigenvalues & eigenvectors of the covariance matrix end explain their meaning in the context of the PCA.\n",
    "4. Calculate the new dataset and discard the less significant component. Which are the axes that the new dataset lies in the original co-ordinate system? How in this simple example you can obtain the new dataset without making any calculations?\n",
    "5. Can you obtain back the original data? How?"
   ]
  },
  {
   "cell_type": "markdown",
   "metadata": {},
   "source": [
    "#### Loading the libraries as usual"
   ]
  },
  {
   "cell_type": "code",
   "execution_count": 1,
   "metadata": {},
   "outputs": [],
   "source": [
    "import numpy as np\n",
    "import numpy.matlib                 # needed for tile function\n",
    "import matplotlib.pyplot as plt\n",
    "\n",
    "# you can change this for matplotlib notebook\n",
    "%matplotlib inline"
   ]
  },
  {
   "cell_type": "markdown",
   "metadata": {},
   "source": [
    "####  Input"
   ]
  },
  {
   "cell_type": "code",
   "execution_count": 2,
   "metadata": {},
   "outputs": [
    {
     "data": {
      "image/png": "[encoded data removed]",
      "text/plain": [
       "<matplotlib.figure.Figure at 0x112f23208>"
      ]
     },
     "metadata": {},
     "output_type": "display_data"
    }
   ],
   "source": [
    "## Input\n",
    "data = np.array([ [3, 3],\n",
    "                  [3, 4],\n",
    "                  [4, 3],\n",
    "                  [4, 5],\n",
    "                  [5, 4],\n",
    "                  [5, 5],\n",
    "                  [6, 6],\n",
    "                  [6, 7],\n",
    "                  [7, 6],\n",
    "                  [7, 8],\n",
    "                  [8, 7],\n",
    "                  [8, 8]])\n",
    "# plot\n",
    "fig = plt.figure()\n",
    "plt.scatter(data[:, 0], data[:, 1], s=25)\n",
    "plt.axis([2, 9, 2, 9])\n",
    "plt.title('Original data')\n",
    "plt.show();"
   ]
  },
  {
   "cell_type": "code",
   "execution_count": 3,
   "metadata": {},
   "outputs": [],
   "source": [
    "# dimensions of the data\n",
    "[n, m] = np.shape(data)"
   ]
  },
  {
   "cell_type": "markdown",
   "metadata": {},
   "source": [
    "### PCA analysis"
   ]
  },
  {
   "cell_type": "code",
   "execution_count": 4,
   "metadata": {},
   "outputs": [],
   "source": [
    "# 1) TO DO center data around the mean\n",
    "#repmat function can be useful"
   ]
  },
  {
   "cell_type": "code",
   "execution_count": 5,
   "metadata": {},
   "outputs": [],
   "source": [
    "# 2) TO DO compute the covariance matrix"
   ]
  },
  {
   "cell_type": "code",
   "execution_count": 6,
   "metadata": {},
   "outputs": [],
   "source": [
    "# 3) TO DO find the eigenvalues and eigenvectors of the covariance matrix\n",
    "                \n",
    "                # eig function gives both eigenvectors and eigenvalues\n",
    "                # extract eigenvalues: they are stored in the diagonal of the returned matrix above"
   ]
  },
  {
   "cell_type": "code",
   "execution_count": 7,
   "metadata": {},
   "outputs": [],
   "source": [
    "# 4a) TO DO calculate new dataset in the eigenvectors basis\n",
    "\n",
    "                # sort the eigenvalues in descending order\n",
    "                # sort the corresponding eigenvectors matrix\n",
    "\n",
    "                #apply the transformation with the sorted eigenvectors matrix\n",
    "\n",
    "                #plot the new dataset in the eigenvalues basis\n"
   ]
  },
  {
   "cell_type": "code",
   "execution_count": 8,
   "metadata": {},
   "outputs": [],
   "source": [
    "# 4b) TO DO discard the least significant component \n",
    "                \n",
    "                #apply the transformation with only the most significant eigenvector\n",
    "\n",
    "                #plot the new dataset in the most significant eigenvector basis\n"
   ]
  }
 ],
 "metadata": {
  "kernelspec": {
   "display_name": "Python 3",
   "language": "python",
   "name": "python3"
  },
  "language_info": {
   "codemirror_mode": {
    "name": "ipython",
    "version": 3
   },
   "file_extension": ".py",
   "mimetype": "text/x-python",
   "name": "python",
   "nbconvert_exporter": "python",
   "pygments_lexer": "ipython3",
   "version": "3.5.4"
  }
 },
 "nbformat": 4,
 "nbformat_minor": 2
}
