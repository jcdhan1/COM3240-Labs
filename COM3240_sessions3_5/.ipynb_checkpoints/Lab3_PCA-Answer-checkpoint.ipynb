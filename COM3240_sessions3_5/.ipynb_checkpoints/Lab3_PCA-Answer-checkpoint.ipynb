{
 "cells": [
  {
   "cell_type": "markdown",
   "metadata": {},
   "source": [
    "# Adaptive Intelligence COM3240\n",
    "## Lab 3: Principal Components Analysis (PCA)\n",
    "\n",
    "### Learning Outcomes:\n",
    "\n",
    "- Understand the PCA technique.\n",
    "- Apply PCA on a toy dataset."
   ]
  },
  {
   "cell_type": "markdown",
   "metadata": {},
   "source": [
    "### Lecture Overview\n",
    "\n",
    "Principal Components Analysis (PCA) is a way of identifying patterns in data, and expressing the data in such a way as to highlight their similarities and differences.\n",
    "It allows to **reduce the dimensions of the data without much loss of information**.\n",
    "\n",
    "### PCA Cookbook:\n",
    "\n",
    "- Step 1: Get some data.\n",
    "- Step 2: Subtract the mean (center data around the mean).\n",
    "- Step 3: Calculate the covariance matrix.\n",
    "- Step 4: Calculate the eigenvectors and eigenvalues of the covariance matrix.\n",
    "- Step 5: Choose components and form a feature vector.\n",
    "- Step 6: Derive the new data set.\n",
    "\n",
    "**Please note**: carefully read the PCA Tutorial of Lindsay I Smith in order to understand the logic behind each step. On your first assignment you are expected to have a comprehensive description of the PCA. "
   ]
  },
  {
   "cell_type": "markdown",
   "metadata": {},
   "source": [
    "## Laboratory 3: Principal Components Analysis (PCA)\n",
    "\n",
    "### Exercise: Application of the PCA technique\n",
    "Apply the PCA technique on the dataset shown in Figure 1 in order to reduce its dimensionality.\n",
    "\n",
    "<img src=\"http://bitsandchips.me/COM3240_Adaptive_Intelligence/Lecture3/icons/figure1.png\"/>\n",
    "\n",
    "1. Centre the data around their mean.\n",
    "2. Write down the covariance formula and calculate the covariance matrix.\n",
    "3. Find the eigenvalues & eigenvectors of the covariance matrix end explain their meaning in the context of the PCA.\n",
    "4. Calculate the new dataset and discard the less significant component. Which are the axes that the new dataset lies in the original co-ordinate system? How in this simple example you can obtain the new dataset without making any calculations?\n",
    "5. Can you obtain back the original data? How?"
   ]
  },
  {
   "cell_type": "markdown",
   "metadata": {},
   "source": [
    "#### Loading the libraries as usual"
   ]
  },
  {
   "cell_type": "code",
   "execution_count": 2,
   "metadata": {},
   "outputs": [],
   "source": [
    "import numpy as np\n",
    "import numpy.matlib                 # needed for tile function\n",
    "import matplotlib.pyplot as plt\n",
    "\n",
    "# you can change this for matplotlib notebook\n",
    "%matplotlib inline"
   ]
  },
  {
   "cell_type": "markdown",
   "metadata": {},
   "source": [
    "####  Input"
   ]
  },
  {
   "cell_type": "code",
   "execution_count": 15,
   "metadata": {},
   "outputs": [
    {
     "data": {
      "image/png": "[encoded data removed]",
      "text/plain": [
       "<matplotlib.figure.Figure at 0x7fe9c4593cc0>"
      ]
     },
     "metadata": {},
     "output_type": "display_data"
    }
   ],
   "source": [
    "## Input\n",
    "data = np.array([ [3, 3],\n",
    "                  [3, 4],\n",
    "                  [4, 3],\n",
    "                  [4, 5],\n",
    "                  [5, 4],\n",
    "                  [5, 5],\n",
    "                  [6, 6],\n",
    "                  [6, 7],\n",
    "                  [7, 6],\n",
    "                  [7, 8],\n",
    "                  [8, 7],\n",
    "                  [8, 8]])\n",
    "\n",
    "\"\"\"data=np.array([ [2.5, 2.4],\n",
    "                  [0.5, 0.7],\n",
    "                  [2.2, 2.9],\n",
    "                  [1.9, 2.2],\n",
    "                  [3.1, 3],\n",
    "                  [2.3, 2.7],\n",
    "                  [2, 1.6],\n",
    "                  [1, 1.1],\n",
    "                  [1.5, 1.6],\n",
    "                  [1.1, 0.9]])\"\"\"\n",
    "# plot\n",
    "fig = plt.figure()\n",
    "plt.scatter(data[:, 0], data[:, 1], s=25)\n",
    "plt.axis([2, 9, 2, 9])\n",
    "plt.gca().set_aspect('equal', adjustable='box')\n",
    "plt.title('Original data')\n",
    "plt.show();"
   ]
  },
  {
   "cell_type": "code",
   "execution_count": 110,
   "metadata": {},
   "outputs": [
    {
     "name": "stdout",
     "output_type": "stream",
     "text": [
      "12 2\n",
      "[[3 3]\n",
      " [3 4]\n",
      " [4 3]\n",
      " [4 5]\n",
      " [5 4]\n",
      " [5 5]\n",
      " [6 6]\n",
      " [6 7]\n",
      " [7 6]\n",
      " [7 8]\n",
      " [8 7]\n",
      " [8 8]]\n"
     ]
    }
   ],
   "source": [
    "# dimensions of the data\n",
    "[n, m] = np.shape(data)\n",
    "print(n,m)\n",
    "print(data)"
   ]
  },
  {
   "cell_type": "markdown",
   "metadata": {},
   "source": [
    "### PCA analysis"
   ]
  },
  {
   "cell_type": "code",
   "execution_count": 5,
   "metadata": {},
   "outputs": [
    {
     "name": "stdout",
     "output_type": "stream",
     "text": [
      "[[-2.5 -2.5]\n",
      " [-2.5 -1.5]\n",
      " [-1.5 -2.5]\n",
      " [-1.5 -0.5]\n",
      " [-0.5 -1.5]\n",
      " [-0.5 -0.5]\n",
      " [ 0.5  0.5]\n",
      " [ 0.5  1.5]\n",
      " [ 1.5  0.5]\n",
      " [ 1.5  2.5]\n",
      " [ 2.5  1.5]\n",
      " [ 2.5  2.5]]\n"
     ]
    }
   ],
   "source": [
    "# 1) TO DO center data around the mean\n",
    "#repmat function can be useful\n",
    "\n",
    "def center_data(dat):\n",
    "    return dat-np.matlib.repmat(dat.mean(axis=0), np.shape(dat)[0],1)\n",
    "\n",
    "centered_data = center_data(data)\n",
    "\n",
    "\n",
    "\n",
    "print(centered_data)"
   ]
  },
  {
   "cell_type": "code",
   "execution_count": 27,
   "metadata": {},
   "outputs": [
    {
     "name": "stdout",
     "output_type": "stream",
     "text": [
      "[[ 3.18181818  2.81818182]\n",
      " [ 2.81818182  3.18181818]]\n"
     ]
    }
   ],
   "source": [
    "# 2) TO DO compute the covariance matrix\n",
    "\n",
    "\n",
    "cov_mat=numpy.cov(np.transpose(centered_data))\n",
    "print(cov_mat)"
   ]
  },
  {
   "cell_type": "code",
   "execution_count": 116,
   "metadata": {},
   "outputs": [
    {
     "name": "stdout",
     "output_type": "stream",
     "text": [
      "(array([ 6.        ,  0.36363636]), array([[ 0.70710678, -0.70710678],\n",
      "       [ 0.70710678,  0.70710678]]))\n",
      "[(6.0, array([ 0.70710678,  0.70710678])), (0.36363636363636376, array([-0.70710678,  0.70710678]))]\n"
     ]
    }
   ],
   "source": [
    "# 3) TO DO find the eigenvalues and eigenvectors of the covariance matrix\n",
    "                \n",
    "#Note: this returns a tuple where the first element is m by 1 matrix of eigenvalues \n",
    "#The second element is an m by m matrix where the COLUMNS correspond to the eigenvectors.\n",
    "#Since numpy represents matrices as arrays of their ROWS, one must tranpose it to extract the columns.\n",
    "eig_valvec=numpy.linalg.eig(cov_mat)\n",
    "print(eig_valvec)\n",
    "eig_valvec_list=list(zip(eig_valvec[0],np.transpose(eig_valvec[1]))) #note the transposition to get eigenvectors from columns\n",
    "print(eig_valvec_list)"
   ]
  },
  {
   "cell_type": "code",
   "execution_count": 117,
   "metadata": {},
   "outputs": [
    {
     "name": "stdout",
     "output_type": "stream",
     "text": [
      "[(6.0, array([ 0.70710678,  0.70710678])), (0.36363636363636376, array([-0.70710678,  0.70710678]))]\n"
     ]
    },
    {
     "data": {
      "image/png": "[encoded data removed]",
      "text/plain": [
       "<matplotlib.figure.Figure at 0x7fe9c418eb38>"
      ]
     },
     "metadata": {},
     "output_type": "display_data"
    }
   ],
   "source": [
    "# 4a) TO DO calculate new dataset in the eigenvectors basis\n",
    "\n",
    "                # sort the eigenvalues in descending order\n",
    "                # sort the corresponding eigenvectors matrix\n",
    "\n",
    "                #apply the transformation with the sorted eigenvectors matrix\n",
    "\n",
    "                #plot the new dataset in the eigenvalues basis\n",
    "sorted_eig_valvec_list=sorted(eig_valvec_list,key=lambda x: x[0], reverse=True)\n",
    "print(sorted_eig_valvec_list)\n",
    "\n",
    "\n",
    "\n",
    "\n",
    "# plot centered data with eigenvectors overlayed\n",
    "fig = plt.figure()\n",
    "plt.scatter(centered_data[:, 0], centered_data[:, 1], s=25)\n",
    "for eig_valvec_tup in sorted_eig_valvec_list:\n",
    "    plt.arrow(0,0,eig_valvec_tup[1][0],eig_valvec_tup[1][1], head_width=0.05, head_length=0.1, fc='k', ec='k')\n",
    "plt.title('Centered data')\n",
    "plt.gca().set_aspect('equal', adjustable='box')\n",
    "plt.show();\n"
   ]
  },
  {
   "cell_type": "code",
   "execution_count": 118,
   "metadata": {},
   "outputs": [
    {
     "name": "stdout",
     "output_type": "stream",
     "text": [
      "[ 0.         -0.70710678  0.70710678 -0.70710678  0.70710678  0.          0.\n",
      " -0.70710678  0.70710678 -0.70710678  0.70710678  0.        ]\n"
     ]
    },
    {
     "data": {
      "image/png": "[encoded data removed]",
      "text/plain": [
       "<matplotlib.figure.Figure at 0x7fe9c41c1390>"
      ]
     },
     "metadata": {},
     "output_type": "display_data"
    }
   ],
   "source": [
    "# 4b) TO DO discard the least significant component \n",
    "                \n",
    "                #apply the transformation with only the most significant eigenvector\n",
    "\n",
    "                #plot the new dataset in the most significant eigenvector basis\n",
    "            \n",
    "#sorted so item at index 0 is biggest eigenvalue with its eigenvector\n",
    "dat_most = np.matmul(centered_data,sorted_eig_valvec_list[0][1])\n",
    "dat_least = np.matmul(centered_data,sorted_eig_valvec_list[1][1])\n",
    "print(new_data)\n",
    "fig = plt.figure()\n",
    "plt.scatter(dat_most,dat_least, s=25)\n",
    "plt.axis([-4, 4, -4, 4])\n",
    "plt.gca().set_aspect('equal', adjustable='box')\n",
    "plt.title('Direction of eigenvectors')\n",
    "plt.show();\n"
   ]
  },
  {
   "cell_type": "code",
   "execution_count": null,
   "metadata": {},
   "outputs": [],
   "source": []
  }
 ],
 "metadata": {
  "kernelspec": {
   "display_name": "Python 3",
   "language": "python",
   "name": "python3"
  },
  "language_info": {
   "codemirror_mode": {
    "name": "ipython",
    "version": 3
   },
   "file_extension": ".py",
   "mimetype": "text/x-python",
   "name": "python",
   "nbconvert_exporter": "python",
   "pygments_lexer": "ipython3",
   "version": "3.5.4"
  }
 },
 "nbformat": 4,
 "nbformat_minor": 2
}
