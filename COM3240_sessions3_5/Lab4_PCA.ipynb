{
 "cells": [
  {
   "cell_type": "markdown",
   "metadata": {},
   "source": [
    "# Adaptive Intelligence COM3240\n",
    "\n",
    "## Lab 4: PCA on the reduced MNIST database\n",
    "\n",
    "### Learning Outcomes\n",
    "- Gain further experience on PCA. \n",
    "- Apply PCA on a more complex dataset.\n",
    "- Preparation for assignment 1.\n",
    "\n",
    "### Exercise\n",
    "Your task is to perform a Principle Component Analysis on a reduced data set of hand written digits, from the MNIST database http://yann.lecun.com/exdb/mnist/. The data set is available in matlab format from the course web page page. The patterns pro vided are 28x28 images and you need reshape the vectors in the dataset in order to see an individual digit. To visualise multiple data points of a high dimensionality simultaneously, it is required to perform PCA and keep, for example, the four most important components and discard the others. This will allow you to plot 3D combinations of them and decide which is more informative for distinguishing the clusters that are formed. To facilitate visualisation, you may use the labels of the data and show only 5 digits in the graph (e.g 0, 2, 4, 7, 8). Use a different colour for every digit. **Note:** this is for didactic purposes; normally data are not labeled. \n",
    "\n",
    "You will need to produce the following:\n",
    "1. A 3D figure of the transformed data with the 1st, 2nd and 3rd PC as axes.\n",
    "2. A 3D figure of the transformed data with the 1st, 2nd and 4th PC as axes.\n",
    "3. A 3D figure of the transformed data with the 2nd, 3rd and 4th PC as axes.\n",
    "4. Also, comment on the most informative combination by pointing out the clusters of the data.\n",
    "\n",
    "#### Further clarifications\n",
    "For your implementation, you may of course use standard mathematical tools (such as finding the eigenvectors), but not a ready-made PCA module (though you may use it to compare results). In finding the principle components, please note that depending on the machine you are using or the accuracy of your calculations you may get the PC vectors with an opposite sign. This is not a problem as both solutions are totally equivalent. "
   ]
  },
  {
   "cell_type": "code",
   "execution_count": 1,
   "metadata": {},
   "outputs": [],
   "source": [
    "import numpy as np\n",
    "import matplotlib.pyplot as plt\n",
    "%matplotlib inline"
   ]
  },
  {
   "cell_type": "code",
   "execution_count": 2,
   "metadata": {},
   "outputs": [],
   "source": [
    "## load the dataset\n",
    "train = np.genfromtxt ('digits/train.csv', delimiter=\",\")\n",
    "trainlabels = np.genfromtxt ('digit/trainlabels.csv', delimiter=\",\")\n",
    "\n",
    "[n,m]=np.shape(train)  # number of pixels and number of training data\n",
    "#n = 784 = 28x28 pixels\n",
    "#m = 5000 (images)"
   ]
  },
  {
   "cell_type": "markdown",
   "metadata": {},
   "source": [
    "#### How to visualize a digit "
   ]
  },
  {
   "cell_type": "code",
   "execution_count": 3,
   "metadata": {},
   "outputs": [
    {
     "data": {
      "image/png": "[encoded data removed]",
      "text/plain": [
       "<matplotlib.figure.Figure at 0x7f98894ff6a0>"
      ]
     },
     "metadata": {},
     "output_type": "display_data"
    }
   ],
   "source": [
    "pixels = 28\n",
    "i = 2 # 1 up to m\n",
    "\n",
    "# reshapes the i-th vector with length n into a 28x28 array\n",
    "image = np.reshape(train[:,1],(pixels,pixels),order=\"F\")\n",
    "\n",
    "# vizualize the image\n",
    "plt.imshow(image, cmap = 'inferno');"
   ]
  }
 ],
 "metadata": {
  "kernelspec": {
   "display_name": "Python 3",
   "language": "python",
   "name": "python3"
  },
  "language_info": {
   "codemirror_mode": {
    "name": "ipython",
    "version": 3
   },
   "file_extension": ".py",
   "mimetype": "text/x-python",
   "name": "python",
   "nbconvert_exporter": "python",
   "pygments_lexer": "ipython3",
   "version": "3.5.4"
  }
 },
 "nbformat": 4,
 "nbformat_minor": 2
}
